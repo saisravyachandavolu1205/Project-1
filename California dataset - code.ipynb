{
 "cells": [
  {
   "cell_type": "code",
   "execution_count": 27,
   "id": "aac06640",
   "metadata": {},
   "outputs": [],
   "source": [
    "import pandas as pd"
   ]
  },
  {
   "cell_type": "code",
   "execution_count": 28,
   "id": "d1394155",
   "metadata": {},
   "outputs": [
    {
     "data": {
      "text/html": [
       "<div>\n",
       "<style scoped>\n",
       "    .dataframe tbody tr th:only-of-type {\n",
       "        vertical-align: middle;\n",
       "    }\n",
       "\n",
       "    .dataframe tbody tr th {\n",
       "        vertical-align: top;\n",
       "    }\n",
       "\n",
       "    .dataframe thead th {\n",
       "        text-align: right;\n",
       "    }\n",
       "</style>\n",
       "<table border=\"1\" class=\"dataframe\">\n",
       "  <thead>\n",
       "    <tr style=\"text-align: right;\">\n",
       "      <th></th>\n",
       "      <th>AcresBurned</th>\n",
       "      <th>Active</th>\n",
       "      <th>AdminUnit</th>\n",
       "      <th>AirTankers</th>\n",
       "      <th>ArchiveYear</th>\n",
       "      <th>CalFireIncident</th>\n",
       "      <th>CanonicalUrl</th>\n",
       "      <th>ConditionStatement</th>\n",
       "      <th>ControlStatement</th>\n",
       "      <th>Counties</th>\n",
       "      <th>...</th>\n",
       "      <th>SearchKeywords</th>\n",
       "      <th>Started</th>\n",
       "      <th>Status</th>\n",
       "      <th>StructuresDamaged</th>\n",
       "      <th>StructuresDestroyed</th>\n",
       "      <th>StructuresEvacuated</th>\n",
       "      <th>StructuresThreatened</th>\n",
       "      <th>UniqueId</th>\n",
       "      <th>Updated</th>\n",
       "      <th>WaterTenders</th>\n",
       "    </tr>\n",
       "  </thead>\n",
       "  <tbody>\n",
       "    <tr>\n",
       "      <th>0</th>\n",
       "      <td>257314.0</td>\n",
       "      <td>False</td>\n",
       "      <td>Stanislaus National Forest/Yosemite National Park</td>\n",
       "      <td>NaN</td>\n",
       "      <td>2013</td>\n",
       "      <td>True</td>\n",
       "      <td>/incidents/2013/8/17/rim-fire/</td>\n",
       "      <td>NaN</td>\n",
       "      <td>NaN</td>\n",
       "      <td>Tuolumne</td>\n",
       "      <td>...</td>\n",
       "      <td>Rim Fire, Stanislaus National Forest, Yosemite...</td>\n",
       "      <td>2013-08-17T15:25:00Z</td>\n",
       "      <td>Finalized</td>\n",
       "      <td>NaN</td>\n",
       "      <td>NaN</td>\n",
       "      <td>NaN</td>\n",
       "      <td>NaN</td>\n",
       "      <td>5fb18d4d-213f-4d83-a179-daaf11939e78</td>\n",
       "      <td>2013-09-06T18:30:00Z</td>\n",
       "      <td>NaN</td>\n",
       "    </tr>\n",
       "    <tr>\n",
       "      <th>1</th>\n",
       "      <td>30274.0</td>\n",
       "      <td>False</td>\n",
       "      <td>USFS Angeles National Forest/Los Angeles Count...</td>\n",
       "      <td>NaN</td>\n",
       "      <td>2013</td>\n",
       "      <td>True</td>\n",
       "      <td>/incidents/2013/5/30/powerhouse-fire/</td>\n",
       "      <td>NaN</td>\n",
       "      <td>NaN</td>\n",
       "      <td>Los Angeles</td>\n",
       "      <td>...</td>\n",
       "      <td>Powerhouse Fire, May 2013, June 2013, Angeles ...</td>\n",
       "      <td>2013-05-30T15:28:00Z</td>\n",
       "      <td>Finalized</td>\n",
       "      <td>NaN</td>\n",
       "      <td>NaN</td>\n",
       "      <td>NaN</td>\n",
       "      <td>NaN</td>\n",
       "      <td>bf37805e-1cc2-4208-9972-753e47874c87</td>\n",
       "      <td>2013-06-08T18:30:00Z</td>\n",
       "      <td>NaN</td>\n",
       "    </tr>\n",
       "    <tr>\n",
       "      <th>2</th>\n",
       "      <td>27531.0</td>\n",
       "      <td>False</td>\n",
       "      <td>CAL FIRE Riverside Unit / San Bernardino Natio...</td>\n",
       "      <td>NaN</td>\n",
       "      <td>2013</td>\n",
       "      <td>True</td>\n",
       "      <td>/incidents/2013/7/15/mountain-fire/</td>\n",
       "      <td>NaN</td>\n",
       "      <td>NaN</td>\n",
       "      <td>Riverside</td>\n",
       "      <td>...</td>\n",
       "      <td>Mountain Fire, July 2013, Highway 243, Highway...</td>\n",
       "      <td>2013-07-15T13:43:00Z</td>\n",
       "      <td>Finalized</td>\n",
       "      <td>NaN</td>\n",
       "      <td>NaN</td>\n",
       "      <td>NaN</td>\n",
       "      <td>NaN</td>\n",
       "      <td>a3149fec-4d48-427c-8b2c-59e8b79d59db</td>\n",
       "      <td>2013-07-30T18:00:00Z</td>\n",
       "      <td>NaN</td>\n",
       "    </tr>\n",
       "    <tr>\n",
       "      <th>3</th>\n",
       "      <td>27440.0</td>\n",
       "      <td>False</td>\n",
       "      <td>Tahoe National Forest</td>\n",
       "      <td>NaN</td>\n",
       "      <td>2013</td>\n",
       "      <td>False</td>\n",
       "      <td>/incidents/2013/8/10/american-fire/</td>\n",
       "      <td>NaN</td>\n",
       "      <td>NaN</td>\n",
       "      <td>Placer</td>\n",
       "      <td>...</td>\n",
       "      <td>American Fire, August 2013, Deadwood Ridge, Fo...</td>\n",
       "      <td>2013-08-10T16:30:00Z</td>\n",
       "      <td>Finalized</td>\n",
       "      <td>NaN</td>\n",
       "      <td>NaN</td>\n",
       "      <td>NaN</td>\n",
       "      <td>NaN</td>\n",
       "      <td>8213f5c7-34fa-403b-a4bc-da2ace6e6625</td>\n",
       "      <td>2013-08-30T08:00:00Z</td>\n",
       "      <td>NaN</td>\n",
       "    </tr>\n",
       "    <tr>\n",
       "      <th>4</th>\n",
       "      <td>24251.0</td>\n",
       "      <td>False</td>\n",
       "      <td>Ventura County Fire/CAL FIRE</td>\n",
       "      <td>NaN</td>\n",
       "      <td>2013</td>\n",
       "      <td>True</td>\n",
       "      <td>/incidents/2013/5/2/springs-fire/</td>\n",
       "      <td>Acreage has been reduced based upon more accur...</td>\n",
       "      <td>NaN</td>\n",
       "      <td>Ventura</td>\n",
       "      <td>...</td>\n",
       "      <td>Springs Fire, May 2013, Highway 101, Camarillo...</td>\n",
       "      <td>2013-05-02T07:01:00Z</td>\n",
       "      <td>Finalized</td>\n",
       "      <td>6.0</td>\n",
       "      <td>10.0</td>\n",
       "      <td>NaN</td>\n",
       "      <td>NaN</td>\n",
       "      <td>46731fb8-3350-4920-bdf7-910ac0eb715c</td>\n",
       "      <td>2013-05-11T06:30:00Z</td>\n",
       "      <td>11.0</td>\n",
       "    </tr>\n",
       "  </tbody>\n",
       "</table>\n",
       "<p>5 rows × 40 columns</p>\n",
       "</div>"
      ],
      "text/plain": [
       "   AcresBurned  Active                                          AdminUnit  \\\n",
       "0     257314.0   False  Stanislaus National Forest/Yosemite National Park   \n",
       "1      30274.0   False  USFS Angeles National Forest/Los Angeles Count...   \n",
       "2      27531.0   False  CAL FIRE Riverside Unit / San Bernardino Natio...   \n",
       "3      27440.0   False                              Tahoe National Forest   \n",
       "4      24251.0   False                       Ventura County Fire/CAL FIRE   \n",
       "\n",
       "   AirTankers  ArchiveYear  CalFireIncident  \\\n",
       "0         NaN         2013             True   \n",
       "1         NaN         2013             True   \n",
       "2         NaN         2013             True   \n",
       "3         NaN         2013            False   \n",
       "4         NaN         2013             True   \n",
       "\n",
       "                            CanonicalUrl  \\\n",
       "0         /incidents/2013/8/17/rim-fire/   \n",
       "1  /incidents/2013/5/30/powerhouse-fire/   \n",
       "2    /incidents/2013/7/15/mountain-fire/   \n",
       "3    /incidents/2013/8/10/american-fire/   \n",
       "4      /incidents/2013/5/2/springs-fire/   \n",
       "\n",
       "                                  ConditionStatement ControlStatement  \\\n",
       "0                                                NaN              NaN   \n",
       "1                                                NaN              NaN   \n",
       "2                                                NaN              NaN   \n",
       "3                                                NaN              NaN   \n",
       "4  Acreage has been reduced based upon more accur...              NaN   \n",
       "\n",
       "      Counties  ...                                     SearchKeywords  \\\n",
       "0     Tuolumne  ...  Rim Fire, Stanislaus National Forest, Yosemite...   \n",
       "1  Los Angeles  ...  Powerhouse Fire, May 2013, June 2013, Angeles ...   \n",
       "2    Riverside  ...  Mountain Fire, July 2013, Highway 243, Highway...   \n",
       "3       Placer  ...  American Fire, August 2013, Deadwood Ridge, Fo...   \n",
       "4      Ventura  ...  Springs Fire, May 2013, Highway 101, Camarillo...   \n",
       "\n",
       "                Started     Status  StructuresDamaged StructuresDestroyed  \\\n",
       "0  2013-08-17T15:25:00Z  Finalized                NaN                 NaN   \n",
       "1  2013-05-30T15:28:00Z  Finalized                NaN                 NaN   \n",
       "2  2013-07-15T13:43:00Z  Finalized                NaN                 NaN   \n",
       "3  2013-08-10T16:30:00Z  Finalized                NaN                 NaN   \n",
       "4  2013-05-02T07:01:00Z  Finalized                6.0                10.0   \n",
       "\n",
       "   StructuresEvacuated  StructuresThreatened  \\\n",
       "0                  NaN                   NaN   \n",
       "1                  NaN                   NaN   \n",
       "2                  NaN                   NaN   \n",
       "3                  NaN                   NaN   \n",
       "4                  NaN                   NaN   \n",
       "\n",
       "                               UniqueId               Updated  WaterTenders  \n",
       "0  5fb18d4d-213f-4d83-a179-daaf11939e78  2013-09-06T18:30:00Z           NaN  \n",
       "1  bf37805e-1cc2-4208-9972-753e47874c87  2013-06-08T18:30:00Z           NaN  \n",
       "2  a3149fec-4d48-427c-8b2c-59e8b79d59db  2013-07-30T18:00:00Z           NaN  \n",
       "3  8213f5c7-34fa-403b-a4bc-da2ace6e6625  2013-08-30T08:00:00Z           NaN  \n",
       "4  46731fb8-3350-4920-bdf7-910ac0eb715c  2013-05-11T06:30:00Z          11.0  \n",
       "\n",
       "[5 rows x 40 columns]"
      ]
     },
     "execution_count": 28,
     "metadata": {},
     "output_type": "execute_result"
    }
   ],
   "source": [
    "df = pd.read_csv('California_Fire_Incidents.csv')\n",
    "df.head()"
   ]
  },
  {
   "cell_type": "code",
   "execution_count": 29,
   "id": "3b0ce479",
   "metadata": {},
   "outputs": [
    {
     "data": {
      "text/plain": [
       "(1636, 40)"
      ]
     },
     "execution_count": 29,
     "metadata": {},
     "output_type": "execute_result"
    }
   ],
   "source": [
    "df.shape"
   ]
  },
  {
   "cell_type": "code",
   "execution_count": 30,
   "id": "20e468b7",
   "metadata": {},
   "outputs": [
    {
     "data": {
      "text/plain": [
       "3"
      ]
     },
     "execution_count": 30,
     "metadata": {},
     "output_type": "execute_result"
    }
   ],
   "source": [
    "df['AcresBurned'].isna().sum()"
   ]
  },
  {
   "cell_type": "markdown",
   "id": "9cdc6100",
   "metadata": {},
   "source": [
    "# Fill missing numeric values\n",
    "num_cols = ['AcresBurned', 'AirTankers', 'CrewsInvolved', 'Dozers', 'Engines', 'Fatalities',\n",
    "            'Helicopters', 'Injuries', 'PersonnelInvolved', 'StructuresDamaged',\n",
    "            'StructuresDestroyed', 'StructuresEvacuated', 'StructuresThreatened', 'WaterTenders']"
   ]
  },
  {
   "cell_type": "code",
   "execution_count": 31,
   "id": "6ff3f086",
   "metadata": {},
   "outputs": [],
   "source": [
    "# Drop irrelevant columns\n",
    "drop_cols = ['CanonicalUrl', 'ConditionStatement', 'ControlStatement', 'SearchDescription',\n",
    "             'SearchKeywords', 'UniqueId', 'Updated', 'Final', 'Public', 'Featured']\n",
    "df.drop(columns=drop_cols, inplace=True, errors='ignore')"
   ]
  },
  {
   "cell_type": "code",
   "execution_count": 32,
   "id": "da2726a5",
   "metadata": {},
   "outputs": [
    {
     "data": {
      "text/plain": [
       "(1636, 30)"
      ]
     },
     "execution_count": 32,
     "metadata": {},
     "output_type": "execute_result"
    }
   ],
   "source": [
    "df.shape"
   ]
  },
  {
   "cell_type": "code",
   "execution_count": 33,
   "id": "4f54cf99",
   "metadata": {},
   "outputs": [],
   "source": [
    "def count_column(name):\n",
    "    print(\"Column name:\", name)\n",
    "    return df[name].isna().sum()"
   ]
  },
  {
   "cell_type": "code",
   "execution_count": 34,
   "id": "e2db7b71",
   "metadata": {},
   "outputs": [],
   "source": [
    "# Fill missing numeric values\n",
    "num_cols = ['AcresBurned', 'AirTankers', 'CrewsInvolved', 'Dozers', 'Engines', 'Fatalities',\n",
    "            'Helicopters', 'Injuries', 'PersonnelInvolved', 'StructuresDamaged',\n",
    "            'StructuresDestroyed', 'StructuresEvacuated', 'StructuresThreatened', 'WaterTenders']"
   ]
  },
  {
   "cell_type": "code",
   "execution_count": 35,
   "id": "a5982e28",
   "metadata": {},
   "outputs": [
    {
     "name": "stdout",
     "output_type": "stream",
     "text": [
      "Column name: AcresBurned\n",
      "3\n",
      "Column name: AirTankers\n",
      "1608\n",
      "Column name: CrewsInvolved\n",
      "1465\n",
      "Column name: Dozers\n",
      "1513\n",
      "Column name: Engines\n",
      "1445\n",
      "Column name: Fatalities\n",
      "1615\n",
      "Column name: Helicopters\n",
      "1552\n",
      "Column name: Injuries\n",
      "1516\n",
      "Column name: PersonnelInvolved\n",
      "1432\n",
      "Column name: StructuresDamaged\n",
      "1569\n",
      "Column name: StructuresDestroyed\n",
      "1461\n",
      "Column name: StructuresEvacuated\n",
      "1636\n",
      "Column name: StructuresThreatened\n",
      "1606\n",
      "Column name: WaterTenders\n",
      "1490\n"
     ]
    }
   ],
   "source": [
    "for i in num_cols:\n",
    "    c = count_column(i)\n",
    "    print(c)"
   ]
  },
  {
   "cell_type": "code",
   "execution_count": 36,
   "id": "ade30801",
   "metadata": {},
   "outputs": [
    {
     "data": {
      "text/plain": [
       "3"
      ]
     },
     "execution_count": 36,
     "metadata": {},
     "output_type": "execute_result"
    }
   ],
   "source": [
    "df['AcresBurned'].isna().sum()"
   ]
  },
  {
   "cell_type": "code",
   "execution_count": 37,
   "id": "61ab2521",
   "metadata": {},
   "outputs": [],
   "source": [
    "df.dropna(subset=['AcresBurned'], inplace=True)"
   ]
  },
  {
   "cell_type": "code",
   "execution_count": 38,
   "id": "7d28b708",
   "metadata": {},
   "outputs": [
    {
     "data": {
      "text/plain": [
       "0"
      ]
     },
     "execution_count": 38,
     "metadata": {},
     "output_type": "execute_result"
    }
   ],
   "source": [
    "df['AcresBurned'].isna().sum()"
   ]
  },
  {
   "cell_type": "code",
   "execution_count": 39,
   "id": "100b664e",
   "metadata": {},
   "outputs": [],
   "source": [
    "num_cols = ['AirTankers', 'CrewsInvolved', 'Dozers', 'Engines', 'Fatalities',\n",
    "            'Helicopters', 'Injuries', 'PersonnelInvolved', 'StructuresDamaged',\n",
    "            'StructuresDestroyed', 'StructuresEvacuated', 'StructuresThreatened', 'WaterTenders']\n",
    "\n",
    "df.drop(columns=num_cols, inplace=True, errors='ignore')"
   ]
  },
  {
   "cell_type": "code",
   "execution_count": 40,
   "id": "63e84d5a",
   "metadata": {},
   "outputs": [
    {
     "data": {
      "text/plain": [
       "(1633, 17)"
      ]
     },
     "execution_count": 40,
     "metadata": {},
     "output_type": "execute_result"
    }
   ],
   "source": [
    "df.shape"
   ]
  },
  {
   "cell_type": "code",
   "execution_count": 41,
   "id": "28be8560",
   "metadata": {},
   "outputs": [
    {
     "data": {
      "text/plain": [
       "count      1633.000000\n",
       "mean       4589.443968\n",
       "std       27266.337722\n",
       "min           0.000000\n",
       "25%          35.000000\n",
       "50%         100.000000\n",
       "75%         422.000000\n",
       "max      410203.000000\n",
       "Name: AcresBurned, dtype: float64"
      ]
     },
     "execution_count": 41,
     "metadata": {},
     "output_type": "execute_result"
    }
   ],
   "source": [
    "df['AcresBurned'].describe()"
   ]
  },
  {
   "cell_type": "code",
   "execution_count": 42,
   "id": "4cfa944e",
   "metadata": {},
   "outputs": [
    {
     "data": {
      "text/html": [
       "<div>\n",
       "<style scoped>\n",
       "    .dataframe tbody tr th:only-of-type {\n",
       "        vertical-align: middle;\n",
       "    }\n",
       "\n",
       "    .dataframe tbody tr th {\n",
       "        vertical-align: top;\n",
       "    }\n",
       "\n",
       "    .dataframe thead th {\n",
       "        text-align: right;\n",
       "    }\n",
       "</style>\n",
       "<table border=\"1\" class=\"dataframe\">\n",
       "  <thead>\n",
       "    <tr style=\"text-align: right;\">\n",
       "      <th></th>\n",
       "      <th>AcresBurned</th>\n",
       "      <th>Active</th>\n",
       "      <th>AdminUnit</th>\n",
       "      <th>ArchiveYear</th>\n",
       "      <th>CalFireIncident</th>\n",
       "      <th>Counties</th>\n",
       "      <th>CountyIds</th>\n",
       "      <th>Extinguished</th>\n",
       "      <th>FuelType</th>\n",
       "      <th>Latitude</th>\n",
       "      <th>Location</th>\n",
       "      <th>Longitude</th>\n",
       "      <th>MajorIncident</th>\n",
       "      <th>Name</th>\n",
       "      <th>PercentContained</th>\n",
       "      <th>Started</th>\n",
       "      <th>Status</th>\n",
       "    </tr>\n",
       "  </thead>\n",
       "  <tbody>\n",
       "    <tr>\n",
       "      <th>0</th>\n",
       "      <td>257314.0</td>\n",
       "      <td>False</td>\n",
       "      <td>Stanislaus National Forest/Yosemite National Park</td>\n",
       "      <td>2013</td>\n",
       "      <td>True</td>\n",
       "      <td>Tuolumne</td>\n",
       "      <td>55</td>\n",
       "      <td>2013-09-06T18:30:00Z</td>\n",
       "      <td>NaN</td>\n",
       "      <td>37.857000</td>\n",
       "      <td>3 miles east of Groveland along Hwy 120</td>\n",
       "      <td>-120.086000</td>\n",
       "      <td>False</td>\n",
       "      <td>Rim Fire</td>\n",
       "      <td>100.0</td>\n",
       "      <td>2013-08-17T15:25:00Z</td>\n",
       "      <td>Finalized</td>\n",
       "    </tr>\n",
       "    <tr>\n",
       "      <th>1</th>\n",
       "      <td>30274.0</td>\n",
       "      <td>False</td>\n",
       "      <td>USFS Angeles National Forest/Los Angeles Count...</td>\n",
       "      <td>2013</td>\n",
       "      <td>True</td>\n",
       "      <td>Los Angeles</td>\n",
       "      <td>19</td>\n",
       "      <td>2013-06-08T18:30:00Z</td>\n",
       "      <td>NaN</td>\n",
       "      <td>34.585595</td>\n",
       "      <td>Angeles National Forest</td>\n",
       "      <td>-118.423176</td>\n",
       "      <td>False</td>\n",
       "      <td>Powerhouse Fire</td>\n",
       "      <td>100.0</td>\n",
       "      <td>2013-05-30T15:28:00Z</td>\n",
       "      <td>Finalized</td>\n",
       "    </tr>\n",
       "    <tr>\n",
       "      <th>2</th>\n",
       "      <td>27531.0</td>\n",
       "      <td>False</td>\n",
       "      <td>CAL FIRE Riverside Unit / San Bernardino Natio...</td>\n",
       "      <td>2013</td>\n",
       "      <td>True</td>\n",
       "      <td>Riverside</td>\n",
       "      <td>33</td>\n",
       "      <td>2013-07-30T18:00:00Z</td>\n",
       "      <td>NaN</td>\n",
       "      <td>33.709500</td>\n",
       "      <td>Hwy 243 &amp; Hwy 74 near Mountain Center</td>\n",
       "      <td>-116.728850</td>\n",
       "      <td>False</td>\n",
       "      <td>Mountain Fire</td>\n",
       "      <td>100.0</td>\n",
       "      <td>2013-07-15T13:43:00Z</td>\n",
       "      <td>Finalized</td>\n",
       "    </tr>\n",
       "    <tr>\n",
       "      <th>3</th>\n",
       "      <td>27440.0</td>\n",
       "      <td>False</td>\n",
       "      <td>Tahoe National Forest</td>\n",
       "      <td>2013</td>\n",
       "      <td>False</td>\n",
       "      <td>Placer</td>\n",
       "      <td>31</td>\n",
       "      <td>2013-08-30T08:00:00Z</td>\n",
       "      <td>NaN</td>\n",
       "      <td>39.120000</td>\n",
       "      <td>Deadwood Ridge, northeast of Foresthill</td>\n",
       "      <td>-120.650000</td>\n",
       "      <td>False</td>\n",
       "      <td>American Fire</td>\n",
       "      <td>100.0</td>\n",
       "      <td>2013-08-10T16:30:00Z</td>\n",
       "      <td>Finalized</td>\n",
       "    </tr>\n",
       "    <tr>\n",
       "      <th>4</th>\n",
       "      <td>24251.0</td>\n",
       "      <td>False</td>\n",
       "      <td>Ventura County Fire/CAL FIRE</td>\n",
       "      <td>2013</td>\n",
       "      <td>True</td>\n",
       "      <td>Ventura</td>\n",
       "      <td>56</td>\n",
       "      <td>2013-05-11T06:30:00Z</td>\n",
       "      <td>NaN</td>\n",
       "      <td>0.000000</td>\n",
       "      <td>Southbound Highway 101 at Camarillo Springs Ro...</td>\n",
       "      <td>0.000000</td>\n",
       "      <td>True</td>\n",
       "      <td>Springs Fire</td>\n",
       "      <td>100.0</td>\n",
       "      <td>2013-05-02T07:01:00Z</td>\n",
       "      <td>Finalized</td>\n",
       "    </tr>\n",
       "  </tbody>\n",
       "</table>\n",
       "</div>"
      ],
      "text/plain": [
       "   AcresBurned  Active                                          AdminUnit  \\\n",
       "0     257314.0   False  Stanislaus National Forest/Yosemite National Park   \n",
       "1      30274.0   False  USFS Angeles National Forest/Los Angeles Count...   \n",
       "2      27531.0   False  CAL FIRE Riverside Unit / San Bernardino Natio...   \n",
       "3      27440.0   False                              Tahoe National Forest   \n",
       "4      24251.0   False                       Ventura County Fire/CAL FIRE   \n",
       "\n",
       "   ArchiveYear  CalFireIncident     Counties CountyIds          Extinguished  \\\n",
       "0         2013             True     Tuolumne        55  2013-09-06T18:30:00Z   \n",
       "1         2013             True  Los Angeles        19  2013-06-08T18:30:00Z   \n",
       "2         2013             True    Riverside        33  2013-07-30T18:00:00Z   \n",
       "3         2013            False       Placer        31  2013-08-30T08:00:00Z   \n",
       "4         2013             True      Ventura        56  2013-05-11T06:30:00Z   \n",
       "\n",
       "  FuelType   Latitude                                           Location  \\\n",
       "0      NaN  37.857000            3 miles east of Groveland along Hwy 120   \n",
       "1      NaN  34.585595                            Angeles National Forest   \n",
       "2      NaN  33.709500              Hwy 243 & Hwy 74 near Mountain Center   \n",
       "3      NaN  39.120000            Deadwood Ridge, northeast of Foresthill   \n",
       "4      NaN   0.000000  Southbound Highway 101 at Camarillo Springs Ro...   \n",
       "\n",
       "    Longitude  MajorIncident             Name  PercentContained  \\\n",
       "0 -120.086000          False         Rim Fire             100.0   \n",
       "1 -118.423176          False  Powerhouse Fire             100.0   \n",
       "2 -116.728850          False    Mountain Fire             100.0   \n",
       "3 -120.650000          False    American Fire             100.0   \n",
       "4    0.000000           True     Springs Fire             100.0   \n",
       "\n",
       "                Started     Status  \n",
       "0  2013-08-17T15:25:00Z  Finalized  \n",
       "1  2013-05-30T15:28:00Z  Finalized  \n",
       "2  2013-07-15T13:43:00Z  Finalized  \n",
       "3  2013-08-10T16:30:00Z  Finalized  \n",
       "4  2013-05-02T07:01:00Z  Finalized  "
      ]
     },
     "execution_count": 42,
     "metadata": {},
     "output_type": "execute_result"
    }
   ],
   "source": [
    "df.head()"
   ]
  },
  {
   "cell_type": "code",
   "execution_count": 49,
   "id": "e329ad6b",
   "metadata": {},
   "outputs": [
    {
     "data": {
      "text/plain": [
       "59"
      ]
     },
     "execution_count": 49,
     "metadata": {},
     "output_type": "execute_result"
    }
   ],
   "source": [
    "df['Counties'].nunique()"
   ]
  },
  {
   "cell_type": "code",
   "execution_count": 50,
   "id": "421ee1b1",
   "metadata": {},
   "outputs": [
    {
     "data": {
      "text/plain": [
       "79"
      ]
     },
     "execution_count": 50,
     "metadata": {},
     "output_type": "execute_result"
    }
   ],
   "source": [
    "df['CountyIds'].nunique()"
   ]
  },
  {
   "cell_type": "code",
   "execution_count": 51,
   "id": "065799e9",
   "metadata": {},
   "outputs": [
    {
     "data": {
      "text/plain": [
       "array(['55', '19', '33', '31', '56', '10', '47', '12', '52', '45', '37',\n",
       "       '15,56', '49', '7', '4', '54', '42', '22', '33,', '27', '15', '9',\n",
       "       '36', '32', '25', '40', '20', '14', '28', '35', '39', '17', '1',\n",
       "       '11', '57', '9,34', '50', '48', '24', '23', '18', '3', '58', '29',\n",
       "       '43', '5', '41', '30', '49,48,17,6', '28,17', '3,9', '53', ',40',\n",
       "       '8', '17,28', '14,26', '26', '34', '2', '9,31', '51', '42,56',\n",
       "       '28,49', '28,48', '16', '27,40', '46', '44', '6', '21',\n",
       "       '6,11,17,23', '45,53', '19,56', '28,57', '6,17,23', '62', '61',\n",
       "       '59', '62,37'], dtype=object)"
      ]
     },
     "execution_count": 51,
     "metadata": {},
     "output_type": "execute_result"
    }
   ],
   "source": [
    "df['CountyIds'].unique()"
   ]
  },
  {
   "cell_type": "code",
   "execution_count": 52,
   "id": "fe69d565",
   "metadata": {},
   "outputs": [
    {
     "data": {
      "text/plain": [
       "array(['Tuolumne', 'Los Angeles', 'Riverside', 'Placer', 'Ventura',\n",
       "       'Fresno', 'Siskiyou', 'Humboldt', 'Tehama', 'Shasta', 'San Diego',\n",
       "       'Kern', 'Sonoma', 'Contra Costa', 'Butte', 'Tulare',\n",
       "       'Santa Barbara', 'Mariposa', 'Monterey', 'El Dorado',\n",
       "       'San Bernardino', 'Plumas', 'Modoc', 'San Luis Obispo', 'Madera',\n",
       "       'Inyo', 'Napa', 'San Benito', 'San Joaquin', 'Lake', 'Alameda',\n",
       "       'Glenn', 'Yolo', 'Sacramento', 'Stanislaus', 'Solano', 'Merced',\n",
       "       'Mendocino', 'Lassen', 'Amador', 'Yuba', 'Nevada', 'Santa Clara',\n",
       "       'Calaveras', 'San Mateo', 'Orange', 'Colusa', 'Trinity',\n",
       "       'Del Norte', 'Mono', 'Alpine', 'Sutter', 'Kings', 'Sierra',\n",
       "       'Santa Cruz', 'Marin', 'Mexico', 'State of Oregon',\n",
       "       'State of Nevada'], dtype=object)"
      ]
     },
     "execution_count": 52,
     "metadata": {},
     "output_type": "execute_result"
    }
   ],
   "source": [
    "df['Counties'].unique()"
   ]
  },
  {
   "cell_type": "code",
   "execution_count": 53,
   "id": "ca012541",
   "metadata": {},
   "outputs": [
    {
     "data": {
      "text/html": [
       "<div>\n",
       "<style scoped>\n",
       "    .dataframe tbody tr th:only-of-type {\n",
       "        vertical-align: middle;\n",
       "    }\n",
       "\n",
       "    .dataframe tbody tr th {\n",
       "        vertical-align: top;\n",
       "    }\n",
       "\n",
       "    .dataframe thead th {\n",
       "        text-align: right;\n",
       "    }\n",
       "</style>\n",
       "<table border=\"1\" class=\"dataframe\">\n",
       "  <thead>\n",
       "    <tr style=\"text-align: right;\">\n",
       "      <th></th>\n",
       "      <th>AcresBurned</th>\n",
       "      <th>Active</th>\n",
       "      <th>AdminUnit</th>\n",
       "      <th>ArchiveYear</th>\n",
       "      <th>CalFireIncident</th>\n",
       "      <th>Counties</th>\n",
       "      <th>CountyIds</th>\n",
       "      <th>Extinguished</th>\n",
       "      <th>FuelType</th>\n",
       "      <th>Latitude</th>\n",
       "      <th>Location</th>\n",
       "      <th>Longitude</th>\n",
       "      <th>MajorIncident</th>\n",
       "      <th>Name</th>\n",
       "      <th>PercentContained</th>\n",
       "      <th>Started</th>\n",
       "      <th>Status</th>\n",
       "    </tr>\n",
       "  </thead>\n",
       "  <tbody>\n",
       "    <tr>\n",
       "      <th>0</th>\n",
       "      <td>257314.0</td>\n",
       "      <td>False</td>\n",
       "      <td>Stanislaus National Forest/Yosemite National Park</td>\n",
       "      <td>2013</td>\n",
       "      <td>True</td>\n",
       "      <td>Tuolumne</td>\n",
       "      <td>55</td>\n",
       "      <td>2013-09-06T18:30:00Z</td>\n",
       "      <td>NaN</td>\n",
       "      <td>37.857000</td>\n",
       "      <td>3 miles east of Groveland along Hwy 120</td>\n",
       "      <td>-120.086000</td>\n",
       "      <td>False</td>\n",
       "      <td>Rim Fire</td>\n",
       "      <td>100.0</td>\n",
       "      <td>2013-08-17T15:25:00Z</td>\n",
       "      <td>Finalized</td>\n",
       "    </tr>\n",
       "    <tr>\n",
       "      <th>1</th>\n",
       "      <td>30274.0</td>\n",
       "      <td>False</td>\n",
       "      <td>USFS Angeles National Forest/Los Angeles Count...</td>\n",
       "      <td>2013</td>\n",
       "      <td>True</td>\n",
       "      <td>Los Angeles</td>\n",
       "      <td>19</td>\n",
       "      <td>2013-06-08T18:30:00Z</td>\n",
       "      <td>NaN</td>\n",
       "      <td>34.585595</td>\n",
       "      <td>Angeles National Forest</td>\n",
       "      <td>-118.423176</td>\n",
       "      <td>False</td>\n",
       "      <td>Powerhouse Fire</td>\n",
       "      <td>100.0</td>\n",
       "      <td>2013-05-30T15:28:00Z</td>\n",
       "      <td>Finalized</td>\n",
       "    </tr>\n",
       "    <tr>\n",
       "      <th>2</th>\n",
       "      <td>27531.0</td>\n",
       "      <td>False</td>\n",
       "      <td>CAL FIRE Riverside Unit / San Bernardino Natio...</td>\n",
       "      <td>2013</td>\n",
       "      <td>True</td>\n",
       "      <td>Riverside</td>\n",
       "      <td>33</td>\n",
       "      <td>2013-07-30T18:00:00Z</td>\n",
       "      <td>NaN</td>\n",
       "      <td>33.709500</td>\n",
       "      <td>Hwy 243 &amp; Hwy 74 near Mountain Center</td>\n",
       "      <td>-116.728850</td>\n",
       "      <td>False</td>\n",
       "      <td>Mountain Fire</td>\n",
       "      <td>100.0</td>\n",
       "      <td>2013-07-15T13:43:00Z</td>\n",
       "      <td>Finalized</td>\n",
       "    </tr>\n",
       "    <tr>\n",
       "      <th>3</th>\n",
       "      <td>27440.0</td>\n",
       "      <td>False</td>\n",
       "      <td>Tahoe National Forest</td>\n",
       "      <td>2013</td>\n",
       "      <td>False</td>\n",
       "      <td>Placer</td>\n",
       "      <td>31</td>\n",
       "      <td>2013-08-30T08:00:00Z</td>\n",
       "      <td>NaN</td>\n",
       "      <td>39.120000</td>\n",
       "      <td>Deadwood Ridge, northeast of Foresthill</td>\n",
       "      <td>-120.650000</td>\n",
       "      <td>False</td>\n",
       "      <td>American Fire</td>\n",
       "      <td>100.0</td>\n",
       "      <td>2013-08-10T16:30:00Z</td>\n",
       "      <td>Finalized</td>\n",
       "    </tr>\n",
       "    <tr>\n",
       "      <th>4</th>\n",
       "      <td>24251.0</td>\n",
       "      <td>False</td>\n",
       "      <td>Ventura County Fire/CAL FIRE</td>\n",
       "      <td>2013</td>\n",
       "      <td>True</td>\n",
       "      <td>Ventura</td>\n",
       "      <td>56</td>\n",
       "      <td>2013-05-11T06:30:00Z</td>\n",
       "      <td>NaN</td>\n",
       "      <td>0.000000</td>\n",
       "      <td>Southbound Highway 101 at Camarillo Springs Ro...</td>\n",
       "      <td>0.000000</td>\n",
       "      <td>True</td>\n",
       "      <td>Springs Fire</td>\n",
       "      <td>100.0</td>\n",
       "      <td>2013-05-02T07:01:00Z</td>\n",
       "      <td>Finalized</td>\n",
       "    </tr>\n",
       "  </tbody>\n",
       "</table>\n",
       "</div>"
      ],
      "text/plain": [
       "   AcresBurned  Active                                          AdminUnit  \\\n",
       "0     257314.0   False  Stanislaus National Forest/Yosemite National Park   \n",
       "1      30274.0   False  USFS Angeles National Forest/Los Angeles Count...   \n",
       "2      27531.0   False  CAL FIRE Riverside Unit / San Bernardino Natio...   \n",
       "3      27440.0   False                              Tahoe National Forest   \n",
       "4      24251.0   False                       Ventura County Fire/CAL FIRE   \n",
       "\n",
       "   ArchiveYear  CalFireIncident     Counties CountyIds          Extinguished  \\\n",
       "0         2013             True     Tuolumne        55  2013-09-06T18:30:00Z   \n",
       "1         2013             True  Los Angeles        19  2013-06-08T18:30:00Z   \n",
       "2         2013             True    Riverside        33  2013-07-30T18:00:00Z   \n",
       "3         2013            False       Placer        31  2013-08-30T08:00:00Z   \n",
       "4         2013             True      Ventura        56  2013-05-11T06:30:00Z   \n",
       "\n",
       "  FuelType   Latitude                                           Location  \\\n",
       "0      NaN  37.857000            3 miles east of Groveland along Hwy 120   \n",
       "1      NaN  34.585595                            Angeles National Forest   \n",
       "2      NaN  33.709500              Hwy 243 & Hwy 74 near Mountain Center   \n",
       "3      NaN  39.120000            Deadwood Ridge, northeast of Foresthill   \n",
       "4      NaN   0.000000  Southbound Highway 101 at Camarillo Springs Ro...   \n",
       "\n",
       "    Longitude  MajorIncident             Name  PercentContained  \\\n",
       "0 -120.086000          False         Rim Fire             100.0   \n",
       "1 -118.423176          False  Powerhouse Fire             100.0   \n",
       "2 -116.728850          False    Mountain Fire             100.0   \n",
       "3 -120.650000          False    American Fire             100.0   \n",
       "4    0.000000           True     Springs Fire             100.0   \n",
       "\n",
       "                Started     Status  \n",
       "0  2013-08-17T15:25:00Z  Finalized  \n",
       "1  2013-05-30T15:28:00Z  Finalized  \n",
       "2  2013-07-15T13:43:00Z  Finalized  \n",
       "3  2013-08-10T16:30:00Z  Finalized  \n",
       "4  2013-05-02T07:01:00Z  Finalized  "
      ]
     },
     "execution_count": 53,
     "metadata": {},
     "output_type": "execute_result"
    }
   ],
   "source": [
    "df.head()"
   ]
  },
  {
   "cell_type": "code",
   "execution_count": 65,
   "id": "389a9dbf",
   "metadata": {},
   "outputs": [
    {
     "data": {
      "text/plain": [
       "(1633, 17)"
      ]
     },
     "execution_count": 65,
     "metadata": {},
     "output_type": "execute_result"
    }
   ],
   "source": [
    "df.shape"
   ]
  },
  {
   "cell_type": "code",
   "execution_count": 64,
   "id": "8f79384b",
   "metadata": {},
   "outputs": [
    {
     "data": {
      "text/plain": [
       "PercentContained\n",
       "100.0    1633\n",
       "Name: count, dtype: int64"
      ]
     },
     "execution_count": 64,
     "metadata": {},
     "output_type": "execute_result"
    }
   ],
   "source": [
    "df['PercentContained'].value_counts()"
   ]
  },
  {
   "cell_type": "code",
   "execution_count": 62,
   "id": "7ed1b7d1",
   "metadata": {},
   "outputs": [
    {
     "data": {
      "text/plain": [
       "array([False])"
      ]
     },
     "execution_count": 62,
     "metadata": {},
     "output_type": "execute_result"
    }
   ],
   "source": [
    "df['Fu'].unique()"
   ]
  },
  {
   "cell_type": "code",
   "execution_count": 66,
   "id": "5f922d3b",
   "metadata": {},
   "outputs": [],
   "source": [
    "c_drop = ['Active','AdminUnit','ArchiveYear','CountyIds','Extinguished','FuelType','Latitude','Location', 'Name',\n",
    "          'Longitude','PercentContained','Started','Status']\n",
    "\n",
    "df.drop(columns=c_drop, inplace=True, errors='ignore')"
   ]
  },
  {
   "cell_type": "code",
   "execution_count": 67,
   "id": "31c398bd",
   "metadata": {},
   "outputs": [
    {
     "data": {
      "text/html": [
       "<div>\n",
       "<style scoped>\n",
       "    .dataframe tbody tr th:only-of-type {\n",
       "        vertical-align: middle;\n",
       "    }\n",
       "\n",
       "    .dataframe tbody tr th {\n",
       "        vertical-align: top;\n",
       "    }\n",
       "\n",
       "    .dataframe thead th {\n",
       "        text-align: right;\n",
       "    }\n",
       "</style>\n",
       "<table border=\"1\" class=\"dataframe\">\n",
       "  <thead>\n",
       "    <tr style=\"text-align: right;\">\n",
       "      <th></th>\n",
       "      <th>AcresBurned</th>\n",
       "      <th>CalFireIncident</th>\n",
       "      <th>Counties</th>\n",
       "      <th>MajorIncident</th>\n",
       "    </tr>\n",
       "  </thead>\n",
       "  <tbody>\n",
       "    <tr>\n",
       "      <th>0</th>\n",
       "      <td>257314.0</td>\n",
       "      <td>True</td>\n",
       "      <td>Tuolumne</td>\n",
       "      <td>False</td>\n",
       "    </tr>\n",
       "    <tr>\n",
       "      <th>1</th>\n",
       "      <td>30274.0</td>\n",
       "      <td>True</td>\n",
       "      <td>Los Angeles</td>\n",
       "      <td>False</td>\n",
       "    </tr>\n",
       "    <tr>\n",
       "      <th>2</th>\n",
       "      <td>27531.0</td>\n",
       "      <td>True</td>\n",
       "      <td>Riverside</td>\n",
       "      <td>False</td>\n",
       "    </tr>\n",
       "    <tr>\n",
       "      <th>3</th>\n",
       "      <td>27440.0</td>\n",
       "      <td>False</td>\n",
       "      <td>Placer</td>\n",
       "      <td>False</td>\n",
       "    </tr>\n",
       "    <tr>\n",
       "      <th>4</th>\n",
       "      <td>24251.0</td>\n",
       "      <td>True</td>\n",
       "      <td>Ventura</td>\n",
       "      <td>True</td>\n",
       "    </tr>\n",
       "  </tbody>\n",
       "</table>\n",
       "</div>"
      ],
      "text/plain": [
       "   AcresBurned  CalFireIncident     Counties  MajorIncident\n",
       "0     257314.0             True     Tuolumne          False\n",
       "1      30274.0             True  Los Angeles          False\n",
       "2      27531.0             True    Riverside          False\n",
       "3      27440.0            False       Placer          False\n",
       "4      24251.0             True      Ventura           True"
      ]
     },
     "execution_count": 67,
     "metadata": {},
     "output_type": "execute_result"
    }
   ],
   "source": [
    "df.head()"
   ]
  },
  {
   "cell_type": "code",
   "execution_count": 68,
   "id": "ae7a8f83",
   "metadata": {},
   "outputs": [
    {
     "data": {
      "text/plain": [
       "count      1633.000000\n",
       "mean       4589.443968\n",
       "std       27266.337722\n",
       "min           0.000000\n",
       "25%          35.000000\n",
       "50%         100.000000\n",
       "75%         422.000000\n",
       "max      410203.000000\n",
       "Name: AcresBurned, dtype: float64"
      ]
     },
     "execution_count": 68,
     "metadata": {},
     "output_type": "execute_result"
    }
   ],
   "source": [
    "df['AcresBurned'].describe()"
   ]
  },
  {
   "cell_type": "code",
   "execution_count": 71,
   "id": "1ccc2fc1",
   "metadata": {},
   "outputs": [
    {
     "name": "stdout",
     "output_type": "stream",
     "text": [
      "   AcresBurned RiskCategory\n",
      "0     257314.0         High\n",
      "1      30274.0         High\n",
      "2      27531.0         High\n",
      "3      27440.0         High\n",
      "4      24251.0         High\n"
     ]
    }
   ],
   "source": [
    "# define your function\n",
    "def risk_label(acres):\n",
    "    if acres <= 35:\n",
    "        return 'Low'\n",
    "    elif acres <= 422:\n",
    "        return 'Medium'\n",
    "    else:\n",
    "        return 'High'\n",
    "\n",
    "# apply it to create a new column\n",
    "df['RiskCategory'] = df['AcresBurned'].apply(risk_label)\n",
    "\n",
    "# quick check\n",
    "print(df[['AcresBurned','RiskCategory']].head())\n"
   ]
  },
  {
   "cell_type": "code",
   "execution_count": 73,
   "id": "e9277a61",
   "metadata": {},
   "outputs": [
    {
     "data": {
      "text/html": [
       "<div>\n",
       "<style scoped>\n",
       "    .dataframe tbody tr th:only-of-type {\n",
       "        vertical-align: middle;\n",
       "    }\n",
       "\n",
       "    .dataframe tbody tr th {\n",
       "        vertical-align: top;\n",
       "    }\n",
       "\n",
       "    .dataframe thead th {\n",
       "        text-align: right;\n",
       "    }\n",
       "</style>\n",
       "<table border=\"1\" class=\"dataframe\">\n",
       "  <thead>\n",
       "    <tr style=\"text-align: right;\">\n",
       "      <th></th>\n",
       "      <th>AcresBurned</th>\n",
       "      <th>CalFireIncident</th>\n",
       "      <th>Counties</th>\n",
       "      <th>MajorIncident</th>\n",
       "      <th>RiskLabel</th>\n",
       "      <th>RiskCategory</th>\n",
       "    </tr>\n",
       "  </thead>\n",
       "  <tbody>\n",
       "    <tr>\n",
       "      <th>741</th>\n",
       "      <td>300.0</td>\n",
       "      <td>False</td>\n",
       "      <td>Riverside</td>\n",
       "      <td>False</td>\n",
       "      <td>Medium</td>\n",
       "      <td>Medium</td>\n",
       "    </tr>\n",
       "    <tr>\n",
       "      <th>787</th>\n",
       "      <td>130.0</td>\n",
       "      <td>True</td>\n",
       "      <td>Calaveras</td>\n",
       "      <td>True</td>\n",
       "      <td>Medium</td>\n",
       "      <td>Medium</td>\n",
       "    </tr>\n",
       "    <tr>\n",
       "      <th>485</th>\n",
       "      <td>341.0</td>\n",
       "      <td>True</td>\n",
       "      <td>Calaveras</td>\n",
       "      <td>False</td>\n",
       "      <td>Medium</td>\n",
       "      <td>Medium</td>\n",
       "    </tr>\n",
       "    <tr>\n",
       "      <th>463</th>\n",
       "      <td>1785.0</td>\n",
       "      <td>True</td>\n",
       "      <td>Kern</td>\n",
       "      <td>True</td>\n",
       "      <td>High</td>\n",
       "      <td>High</td>\n",
       "    </tr>\n",
       "    <tr>\n",
       "      <th>663</th>\n",
       "      <td>3874.0</td>\n",
       "      <td>True</td>\n",
       "      <td>Riverside</td>\n",
       "      <td>True</td>\n",
       "      <td>High</td>\n",
       "      <td>High</td>\n",
       "    </tr>\n",
       "  </tbody>\n",
       "</table>\n",
       "</div>"
      ],
      "text/plain": [
       "     AcresBurned  CalFireIncident   Counties  MajorIncident RiskLabel  \\\n",
       "741        300.0            False  Riverside          False    Medium   \n",
       "787        130.0             True  Calaveras           True    Medium   \n",
       "485        341.0             True  Calaveras          False    Medium   \n",
       "463       1785.0             True       Kern           True      High   \n",
       "663       3874.0             True  Riverside           True      High   \n",
       "\n",
       "    RiskCategory  \n",
       "741       Medium  \n",
       "787       Medium  \n",
       "485       Medium  \n",
       "463         High  \n",
       "663         High  "
      ]
     },
     "execution_count": 73,
     "metadata": {},
     "output_type": "execute_result"
    }
   ],
   "source": [
    "df.sample(5)"
   ]
  },
  {
   "cell_type": "code",
   "execution_count": 74,
   "id": "816571b1",
   "metadata": {},
   "outputs": [],
   "source": [
    "df.drop('AcresBurned', axis=1 , inplace=True)"
   ]
  },
  {
   "cell_type": "code",
   "execution_count": 75,
   "id": "b4562e7c",
   "metadata": {},
   "outputs": [
    {
     "data": {
      "text/html": [
       "<div>\n",
       "<style scoped>\n",
       "    .dataframe tbody tr th:only-of-type {\n",
       "        vertical-align: middle;\n",
       "    }\n",
       "\n",
       "    .dataframe tbody tr th {\n",
       "        vertical-align: top;\n",
       "    }\n",
       "\n",
       "    .dataframe thead th {\n",
       "        text-align: right;\n",
       "    }\n",
       "</style>\n",
       "<table border=\"1\" class=\"dataframe\">\n",
       "  <thead>\n",
       "    <tr style=\"text-align: right;\">\n",
       "      <th></th>\n",
       "      <th>CalFireIncident</th>\n",
       "      <th>Counties</th>\n",
       "      <th>MajorIncident</th>\n",
       "      <th>RiskLabel</th>\n",
       "      <th>RiskCategory</th>\n",
       "    </tr>\n",
       "  </thead>\n",
       "  <tbody>\n",
       "    <tr>\n",
       "      <th>0</th>\n",
       "      <td>True</td>\n",
       "      <td>Tuolumne</td>\n",
       "      <td>False</td>\n",
       "      <td>High</td>\n",
       "      <td>High</td>\n",
       "    </tr>\n",
       "    <tr>\n",
       "      <th>1</th>\n",
       "      <td>True</td>\n",
       "      <td>Los Angeles</td>\n",
       "      <td>False</td>\n",
       "      <td>High</td>\n",
       "      <td>High</td>\n",
       "    </tr>\n",
       "    <tr>\n",
       "      <th>2</th>\n",
       "      <td>True</td>\n",
       "      <td>Riverside</td>\n",
       "      <td>False</td>\n",
       "      <td>High</td>\n",
       "      <td>High</td>\n",
       "    </tr>\n",
       "    <tr>\n",
       "      <th>3</th>\n",
       "      <td>False</td>\n",
       "      <td>Placer</td>\n",
       "      <td>False</td>\n",
       "      <td>High</td>\n",
       "      <td>High</td>\n",
       "    </tr>\n",
       "    <tr>\n",
       "      <th>4</th>\n",
       "      <td>True</td>\n",
       "      <td>Ventura</td>\n",
       "      <td>True</td>\n",
       "      <td>High</td>\n",
       "      <td>High</td>\n",
       "    </tr>\n",
       "  </tbody>\n",
       "</table>\n",
       "</div>"
      ],
      "text/plain": [
       "   CalFireIncident     Counties  MajorIncident RiskLabel RiskCategory\n",
       "0             True     Tuolumne          False      High         High\n",
       "1             True  Los Angeles          False      High         High\n",
       "2             True    Riverside          False      High         High\n",
       "3            False       Placer          False      High         High\n",
       "4             True      Ventura           True      High         High"
      ]
     },
     "execution_count": 75,
     "metadata": {},
     "output_type": "execute_result"
    }
   ],
   "source": [
    "df.head()"
   ]
  },
  {
   "cell_type": "code",
   "execution_count": 80,
   "id": "b006002d",
   "metadata": {},
   "outputs": [],
   "source": [
    "X = df.drop('RiskCategory', axis=1)\n",
    "y = df['RiskCategory']"
   ]
  },
  {
   "cell_type": "code",
   "execution_count": 83,
   "id": "bbafce64",
   "metadata": {},
   "outputs": [
    {
     "data": {
      "text/html": [
       "<div>\n",
       "<style scoped>\n",
       "    .dataframe tbody tr th:only-of-type {\n",
       "        vertical-align: middle;\n",
       "    }\n",
       "\n",
       "    .dataframe tbody tr th {\n",
       "        vertical-align: top;\n",
       "    }\n",
       "\n",
       "    .dataframe thead th {\n",
       "        text-align: right;\n",
       "    }\n",
       "</style>\n",
       "<table border=\"1\" class=\"dataframe\">\n",
       "  <thead>\n",
       "    <tr style=\"text-align: right;\">\n",
       "      <th></th>\n",
       "      <th>CalFireIncident</th>\n",
       "      <th>MajorIncident</th>\n",
       "      <th>Counties_Alameda</th>\n",
       "      <th>Counties_Alpine</th>\n",
       "      <th>Counties_Amador</th>\n",
       "      <th>Counties_Butte</th>\n",
       "      <th>Counties_Calaveras</th>\n",
       "      <th>Counties_Colusa</th>\n",
       "      <th>Counties_Contra Costa</th>\n",
       "      <th>Counties_Del Norte</th>\n",
       "      <th>...</th>\n",
       "      <th>Counties_Tehama</th>\n",
       "      <th>Counties_Trinity</th>\n",
       "      <th>Counties_Tulare</th>\n",
       "      <th>Counties_Tuolumne</th>\n",
       "      <th>Counties_Ventura</th>\n",
       "      <th>Counties_Yolo</th>\n",
       "      <th>Counties_Yuba</th>\n",
       "      <th>RiskLabel_High</th>\n",
       "      <th>RiskLabel_Low</th>\n",
       "      <th>RiskLabel_Medium</th>\n",
       "    </tr>\n",
       "  </thead>\n",
       "  <tbody>\n",
       "    <tr>\n",
       "      <th>0</th>\n",
       "      <td>True</td>\n",
       "      <td>False</td>\n",
       "      <td>False</td>\n",
       "      <td>False</td>\n",
       "      <td>False</td>\n",
       "      <td>False</td>\n",
       "      <td>False</td>\n",
       "      <td>False</td>\n",
       "      <td>False</td>\n",
       "      <td>False</td>\n",
       "      <td>...</td>\n",
       "      <td>False</td>\n",
       "      <td>False</td>\n",
       "      <td>False</td>\n",
       "      <td>True</td>\n",
       "      <td>False</td>\n",
       "      <td>False</td>\n",
       "      <td>False</td>\n",
       "      <td>True</td>\n",
       "      <td>False</td>\n",
       "      <td>False</td>\n",
       "    </tr>\n",
       "    <tr>\n",
       "      <th>1</th>\n",
       "      <td>True</td>\n",
       "      <td>False</td>\n",
       "      <td>False</td>\n",
       "      <td>False</td>\n",
       "      <td>False</td>\n",
       "      <td>False</td>\n",
       "      <td>False</td>\n",
       "      <td>False</td>\n",
       "      <td>False</td>\n",
       "      <td>False</td>\n",
       "      <td>...</td>\n",
       "      <td>False</td>\n",
       "      <td>False</td>\n",
       "      <td>False</td>\n",
       "      <td>False</td>\n",
       "      <td>False</td>\n",
       "      <td>False</td>\n",
       "      <td>False</td>\n",
       "      <td>True</td>\n",
       "      <td>False</td>\n",
       "      <td>False</td>\n",
       "    </tr>\n",
       "    <tr>\n",
       "      <th>2</th>\n",
       "      <td>True</td>\n",
       "      <td>False</td>\n",
       "      <td>False</td>\n",
       "      <td>False</td>\n",
       "      <td>False</td>\n",
       "      <td>False</td>\n",
       "      <td>False</td>\n",
       "      <td>False</td>\n",
       "      <td>False</td>\n",
       "      <td>False</td>\n",
       "      <td>...</td>\n",
       "      <td>False</td>\n",
       "      <td>False</td>\n",
       "      <td>False</td>\n",
       "      <td>False</td>\n",
       "      <td>False</td>\n",
       "      <td>False</td>\n",
       "      <td>False</td>\n",
       "      <td>True</td>\n",
       "      <td>False</td>\n",
       "      <td>False</td>\n",
       "    </tr>\n",
       "    <tr>\n",
       "      <th>3</th>\n",
       "      <td>False</td>\n",
       "      <td>False</td>\n",
       "      <td>False</td>\n",
       "      <td>False</td>\n",
       "      <td>False</td>\n",
       "      <td>False</td>\n",
       "      <td>False</td>\n",
       "      <td>False</td>\n",
       "      <td>False</td>\n",
       "      <td>False</td>\n",
       "      <td>...</td>\n",
       "      <td>False</td>\n",
       "      <td>False</td>\n",
       "      <td>False</td>\n",
       "      <td>False</td>\n",
       "      <td>False</td>\n",
       "      <td>False</td>\n",
       "      <td>False</td>\n",
       "      <td>True</td>\n",
       "      <td>False</td>\n",
       "      <td>False</td>\n",
       "    </tr>\n",
       "    <tr>\n",
       "      <th>4</th>\n",
       "      <td>True</td>\n",
       "      <td>True</td>\n",
       "      <td>False</td>\n",
       "      <td>False</td>\n",
       "      <td>False</td>\n",
       "      <td>False</td>\n",
       "      <td>False</td>\n",
       "      <td>False</td>\n",
       "      <td>False</td>\n",
       "      <td>False</td>\n",
       "      <td>...</td>\n",
       "      <td>False</td>\n",
       "      <td>False</td>\n",
       "      <td>False</td>\n",
       "      <td>False</td>\n",
       "      <td>True</td>\n",
       "      <td>False</td>\n",
       "      <td>False</td>\n",
       "      <td>True</td>\n",
       "      <td>False</td>\n",
       "      <td>False</td>\n",
       "    </tr>\n",
       "    <tr>\n",
       "      <th>...</th>\n",
       "      <td>...</td>\n",
       "      <td>...</td>\n",
       "      <td>...</td>\n",
       "      <td>...</td>\n",
       "      <td>...</td>\n",
       "      <td>...</td>\n",
       "      <td>...</td>\n",
       "      <td>...</td>\n",
       "      <td>...</td>\n",
       "      <td>...</td>\n",
       "      <td>...</td>\n",
       "      <td>...</td>\n",
       "      <td>...</td>\n",
       "      <td>...</td>\n",
       "      <td>...</td>\n",
       "      <td>...</td>\n",
       "      <td>...</td>\n",
       "      <td>...</td>\n",
       "      <td>...</td>\n",
       "      <td>...</td>\n",
       "      <td>...</td>\n",
       "    </tr>\n",
       "    <tr>\n",
       "      <th>1628</th>\n",
       "      <td>True</td>\n",
       "      <td>False</td>\n",
       "      <td>False</td>\n",
       "      <td>False</td>\n",
       "      <td>False</td>\n",
       "      <td>True</td>\n",
       "      <td>False</td>\n",
       "      <td>False</td>\n",
       "      <td>False</td>\n",
       "      <td>False</td>\n",
       "      <td>...</td>\n",
       "      <td>False</td>\n",
       "      <td>False</td>\n",
       "      <td>False</td>\n",
       "      <td>False</td>\n",
       "      <td>False</td>\n",
       "      <td>False</td>\n",
       "      <td>False</td>\n",
       "      <td>False</td>\n",
       "      <td>True</td>\n",
       "      <td>False</td>\n",
       "    </tr>\n",
       "    <tr>\n",
       "      <th>1629</th>\n",
       "      <td>True</td>\n",
       "      <td>False</td>\n",
       "      <td>False</td>\n",
       "      <td>False</td>\n",
       "      <td>False</td>\n",
       "      <td>False</td>\n",
       "      <td>False</td>\n",
       "      <td>False</td>\n",
       "      <td>False</td>\n",
       "      <td>False</td>\n",
       "      <td>...</td>\n",
       "      <td>False</td>\n",
       "      <td>False</td>\n",
       "      <td>False</td>\n",
       "      <td>False</td>\n",
       "      <td>False</td>\n",
       "      <td>False</td>\n",
       "      <td>False</td>\n",
       "      <td>False</td>\n",
       "      <td>True</td>\n",
       "      <td>False</td>\n",
       "    </tr>\n",
       "    <tr>\n",
       "      <th>1630</th>\n",
       "      <td>True</td>\n",
       "      <td>False</td>\n",
       "      <td>False</td>\n",
       "      <td>False</td>\n",
       "      <td>False</td>\n",
       "      <td>True</td>\n",
       "      <td>False</td>\n",
       "      <td>False</td>\n",
       "      <td>False</td>\n",
       "      <td>False</td>\n",
       "      <td>...</td>\n",
       "      <td>False</td>\n",
       "      <td>False</td>\n",
       "      <td>False</td>\n",
       "      <td>False</td>\n",
       "      <td>False</td>\n",
       "      <td>False</td>\n",
       "      <td>False</td>\n",
       "      <td>False</td>\n",
       "      <td>True</td>\n",
       "      <td>False</td>\n",
       "    </tr>\n",
       "    <tr>\n",
       "      <th>1631</th>\n",
       "      <td>True</td>\n",
       "      <td>False</td>\n",
       "      <td>False</td>\n",
       "      <td>False</td>\n",
       "      <td>False</td>\n",
       "      <td>False</td>\n",
       "      <td>False</td>\n",
       "      <td>False</td>\n",
       "      <td>False</td>\n",
       "      <td>False</td>\n",
       "      <td>...</td>\n",
       "      <td>False</td>\n",
       "      <td>False</td>\n",
       "      <td>False</td>\n",
       "      <td>False</td>\n",
       "      <td>False</td>\n",
       "      <td>False</td>\n",
       "      <td>False</td>\n",
       "      <td>False</td>\n",
       "      <td>True</td>\n",
       "      <td>False</td>\n",
       "    </tr>\n",
       "    <tr>\n",
       "      <th>1632</th>\n",
       "      <td>True</td>\n",
       "      <td>False</td>\n",
       "      <td>False</td>\n",
       "      <td>False</td>\n",
       "      <td>False</td>\n",
       "      <td>False</td>\n",
       "      <td>False</td>\n",
       "      <td>False</td>\n",
       "      <td>False</td>\n",
       "      <td>False</td>\n",
       "      <td>...</td>\n",
       "      <td>False</td>\n",
       "      <td>False</td>\n",
       "      <td>False</td>\n",
       "      <td>False</td>\n",
       "      <td>False</td>\n",
       "      <td>False</td>\n",
       "      <td>False</td>\n",
       "      <td>False</td>\n",
       "      <td>True</td>\n",
       "      <td>False</td>\n",
       "    </tr>\n",
       "  </tbody>\n",
       "</table>\n",
       "<p>1633 rows × 64 columns</p>\n",
       "</div>"
      ],
      "text/plain": [
       "      CalFireIncident  MajorIncident  Counties_Alameda  Counties_Alpine  \\\n",
       "0                True          False             False            False   \n",
       "1                True          False             False            False   \n",
       "2                True          False             False            False   \n",
       "3               False          False             False            False   \n",
       "4                True           True             False            False   \n",
       "...               ...            ...               ...              ...   \n",
       "1628             True          False             False            False   \n",
       "1629             True          False             False            False   \n",
       "1630             True          False             False            False   \n",
       "1631             True          False             False            False   \n",
       "1632             True          False             False            False   \n",
       "\n",
       "      Counties_Amador  Counties_Butte  Counties_Calaveras  Counties_Colusa  \\\n",
       "0               False           False               False            False   \n",
       "1               False           False               False            False   \n",
       "2               False           False               False            False   \n",
       "3               False           False               False            False   \n",
       "4               False           False               False            False   \n",
       "...               ...             ...                 ...              ...   \n",
       "1628            False            True               False            False   \n",
       "1629            False           False               False            False   \n",
       "1630            False            True               False            False   \n",
       "1631            False           False               False            False   \n",
       "1632            False           False               False            False   \n",
       "\n",
       "      Counties_Contra Costa  Counties_Del Norte  ...  Counties_Tehama  \\\n",
       "0                     False               False  ...            False   \n",
       "1                     False               False  ...            False   \n",
       "2                     False               False  ...            False   \n",
       "3                     False               False  ...            False   \n",
       "4                     False               False  ...            False   \n",
       "...                     ...                 ...  ...              ...   \n",
       "1628                  False               False  ...            False   \n",
       "1629                  False               False  ...            False   \n",
       "1630                  False               False  ...            False   \n",
       "1631                  False               False  ...            False   \n",
       "1632                  False               False  ...            False   \n",
       "\n",
       "      Counties_Trinity  Counties_Tulare  Counties_Tuolumne  Counties_Ventura  \\\n",
       "0                False            False               True             False   \n",
       "1                False            False              False             False   \n",
       "2                False            False              False             False   \n",
       "3                False            False              False             False   \n",
       "4                False            False              False              True   \n",
       "...                ...              ...                ...               ...   \n",
       "1628             False            False              False             False   \n",
       "1629             False            False              False             False   \n",
       "1630             False            False              False             False   \n",
       "1631             False            False              False             False   \n",
       "1632             False            False              False             False   \n",
       "\n",
       "      Counties_Yolo  Counties_Yuba  RiskLabel_High  RiskLabel_Low  \\\n",
       "0             False          False            True          False   \n",
       "1             False          False            True          False   \n",
       "2             False          False            True          False   \n",
       "3             False          False            True          False   \n",
       "4             False          False            True          False   \n",
       "...             ...            ...             ...            ...   \n",
       "1628          False          False           False           True   \n",
       "1629          False          False           False           True   \n",
       "1630          False          False           False           True   \n",
       "1631          False          False           False           True   \n",
       "1632          False          False           False           True   \n",
       "\n",
       "      RiskLabel_Medium  \n",
       "0                False  \n",
       "1                False  \n",
       "2                False  \n",
       "3                False  \n",
       "4                False  \n",
       "...                ...  \n",
       "1628             False  \n",
       "1629             False  \n",
       "1630             False  \n",
       "1631             False  \n",
       "1632             False  \n",
       "\n",
       "[1633 rows x 64 columns]"
      ]
     },
     "execution_count": 83,
     "metadata": {},
     "output_type": "execute_result"
    }
   ],
   "source": [
    "X_temp = pd.get_dummies(X)\n",
    "X_temp"
   ]
  },
  {
   "cell_type": "code",
   "execution_count": 85,
   "id": "d5dbd3f1",
   "metadata": {},
   "outputs": [
    {
     "name": "stdout",
     "output_type": "stream",
     "text": [
      "Label mapping: {'High': 0, 'Low': 1, 'Medium': 2}\n",
      "  RiskCategory  RiskCategory_Code\n",
      "0         High                  0\n",
      "1         High                  0\n",
      "2         High                  0\n",
      "3         High                  0\n",
      "4         High                  0\n"
     ]
    }
   ],
   "source": [
    "from sklearn.preprocessing import LabelEncoder\n",
    "\n",
    "# instantiate\n",
    "le = LabelEncoder()\n",
    "\n",
    "# fit + transform your column in one go\n",
    "df['RiskCategory_Code'] = le.fit_transform(df['RiskCategory'])\n",
    "\n",
    "# inspect the mapping\n",
    "mapping = dict(zip(le.classes_, le.transform(le.classes_)))\n",
    "print(\"Label mapping:\", mapping)\n",
    "\n",
    "# take a peek\n",
    "print(df[['RiskCategory','RiskCategory_Code']].head())\n"
   ]
  },
  {
   "cell_type": "code",
   "execution_count": 87,
   "id": "5b581c53",
   "metadata": {},
   "outputs": [
    {
     "data": {
      "text/html": [
       "<div>\n",
       "<style scoped>\n",
       "    .dataframe tbody tr th:only-of-type {\n",
       "        vertical-align: middle;\n",
       "    }\n",
       "\n",
       "    .dataframe tbody tr th {\n",
       "        vertical-align: top;\n",
       "    }\n",
       "\n",
       "    .dataframe thead th {\n",
       "        text-align: right;\n",
       "    }\n",
       "</style>\n",
       "<table border=\"1\" class=\"dataframe\">\n",
       "  <thead>\n",
       "    <tr style=\"text-align: right;\">\n",
       "      <th></th>\n",
       "      <th>CalFireIncident</th>\n",
       "      <th>Counties</th>\n",
       "      <th>MajorIncident</th>\n",
       "      <th>RiskLabel</th>\n",
       "      <th>RiskCategory</th>\n",
       "      <th>RiskCategory_Code</th>\n",
       "    </tr>\n",
       "  </thead>\n",
       "  <tbody>\n",
       "    <tr>\n",
       "      <th>27</th>\n",
       "      <td>False</td>\n",
       "      <td>Monterey</td>\n",
       "      <td>False</td>\n",
       "      <td>Medium</td>\n",
       "      <td>High</td>\n",
       "      <td>0</td>\n",
       "    </tr>\n",
       "    <tr>\n",
       "      <th>1333</th>\n",
       "      <td>False</td>\n",
       "      <td>Shasta</td>\n",
       "      <td>False</td>\n",
       "      <td>Low</td>\n",
       "      <td>Low</td>\n",
       "      <td>1</td>\n",
       "    </tr>\n",
       "    <tr>\n",
       "      <th>173</th>\n",
       "      <td>True</td>\n",
       "      <td>Yolo</td>\n",
       "      <td>True</td>\n",
       "      <td>High</td>\n",
       "      <td>High</td>\n",
       "      <td>0</td>\n",
       "    </tr>\n",
       "    <tr>\n",
       "      <th>507</th>\n",
       "      <td>False</td>\n",
       "      <td>Orange</td>\n",
       "      <td>False</td>\n",
       "      <td>Medium</td>\n",
       "      <td>Medium</td>\n",
       "      <td>2</td>\n",
       "    </tr>\n",
       "    <tr>\n",
       "      <th>330</th>\n",
       "      <td>True</td>\n",
       "      <td>Orange</td>\n",
       "      <td>False</td>\n",
       "      <td>Medium</td>\n",
       "      <td>Medium</td>\n",
       "      <td>2</td>\n",
       "    </tr>\n",
       "  </tbody>\n",
       "</table>\n",
       "</div>"
      ],
      "text/plain": [
       "      CalFireIncident  Counties  MajorIncident RiskLabel RiskCategory  \\\n",
       "27              False  Monterey          False    Medium         High   \n",
       "1333            False    Shasta          False       Low          Low   \n",
       "173              True      Yolo           True      High         High   \n",
       "507             False    Orange          False    Medium       Medium   \n",
       "330              True    Orange          False    Medium       Medium   \n",
       "\n",
       "      RiskCategory_Code  \n",
       "27                    0  \n",
       "1333                  1  \n",
       "173                   0  \n",
       "507                   2  \n",
       "330                   2  "
      ]
     },
     "execution_count": 87,
     "metadata": {},
     "output_type": "execute_result"
    }
   ],
   "source": [
    "df.sample(5)"
   ]
  },
  {
   "cell_type": "code",
   "execution_count": 88,
   "id": "655be1bb",
   "metadata": {},
   "outputs": [],
   "source": [
    "y = df['RiskCategory_Code']"
   ]
  },
  {
   "cell_type": "code",
   "execution_count": 92,
   "id": "e8220eac",
   "metadata": {},
   "outputs": [
    {
     "data": {
      "text/html": [
       "<div>\n",
       "<style scoped>\n",
       "    .dataframe tbody tr th:only-of-type {\n",
       "        vertical-align: middle;\n",
       "    }\n",
       "\n",
       "    .dataframe tbody tr th {\n",
       "        vertical-align: top;\n",
       "    }\n",
       "\n",
       "    .dataframe thead th {\n",
       "        text-align: right;\n",
       "    }\n",
       "</style>\n",
       "<table border=\"1\" class=\"dataframe\">\n",
       "  <thead>\n",
       "    <tr style=\"text-align: right;\">\n",
       "      <th></th>\n",
       "      <th>CalFireIncident</th>\n",
       "      <th>MajorIncident</th>\n",
       "      <th>Counties_Alameda</th>\n",
       "      <th>Counties_Alpine</th>\n",
       "      <th>Counties_Amador</th>\n",
       "      <th>Counties_Butte</th>\n",
       "      <th>Counties_Calaveras</th>\n",
       "      <th>Counties_Colusa</th>\n",
       "      <th>Counties_Contra Costa</th>\n",
       "      <th>Counties_Del Norte</th>\n",
       "      <th>...</th>\n",
       "      <th>Counties_Tehama</th>\n",
       "      <th>Counties_Trinity</th>\n",
       "      <th>Counties_Tulare</th>\n",
       "      <th>Counties_Tuolumne</th>\n",
       "      <th>Counties_Ventura</th>\n",
       "      <th>Counties_Yolo</th>\n",
       "      <th>Counties_Yuba</th>\n",
       "      <th>RiskLabel_High</th>\n",
       "      <th>RiskLabel_Low</th>\n",
       "      <th>RiskLabel_Medium</th>\n",
       "    </tr>\n",
       "  </thead>\n",
       "  <tbody>\n",
       "    <tr>\n",
       "      <th>0</th>\n",
       "      <td>True</td>\n",
       "      <td>False</td>\n",
       "      <td>False</td>\n",
       "      <td>False</td>\n",
       "      <td>False</td>\n",
       "      <td>False</td>\n",
       "      <td>False</td>\n",
       "      <td>False</td>\n",
       "      <td>False</td>\n",
       "      <td>False</td>\n",
       "      <td>...</td>\n",
       "      <td>False</td>\n",
       "      <td>False</td>\n",
       "      <td>False</td>\n",
       "      <td>True</td>\n",
       "      <td>False</td>\n",
       "      <td>False</td>\n",
       "      <td>False</td>\n",
       "      <td>True</td>\n",
       "      <td>False</td>\n",
       "      <td>False</td>\n",
       "    </tr>\n",
       "    <tr>\n",
       "      <th>1</th>\n",
       "      <td>True</td>\n",
       "      <td>False</td>\n",
       "      <td>False</td>\n",
       "      <td>False</td>\n",
       "      <td>False</td>\n",
       "      <td>False</td>\n",
       "      <td>False</td>\n",
       "      <td>False</td>\n",
       "      <td>False</td>\n",
       "      <td>False</td>\n",
       "      <td>...</td>\n",
       "      <td>False</td>\n",
       "      <td>False</td>\n",
       "      <td>False</td>\n",
       "      <td>False</td>\n",
       "      <td>False</td>\n",
       "      <td>False</td>\n",
       "      <td>False</td>\n",
       "      <td>True</td>\n",
       "      <td>False</td>\n",
       "      <td>False</td>\n",
       "    </tr>\n",
       "    <tr>\n",
       "      <th>2</th>\n",
       "      <td>True</td>\n",
       "      <td>False</td>\n",
       "      <td>False</td>\n",
       "      <td>False</td>\n",
       "      <td>False</td>\n",
       "      <td>False</td>\n",
       "      <td>False</td>\n",
       "      <td>False</td>\n",
       "      <td>False</td>\n",
       "      <td>False</td>\n",
       "      <td>...</td>\n",
       "      <td>False</td>\n",
       "      <td>False</td>\n",
       "      <td>False</td>\n",
       "      <td>False</td>\n",
       "      <td>False</td>\n",
       "      <td>False</td>\n",
       "      <td>False</td>\n",
       "      <td>True</td>\n",
       "      <td>False</td>\n",
       "      <td>False</td>\n",
       "    </tr>\n",
       "    <tr>\n",
       "      <th>3</th>\n",
       "      <td>False</td>\n",
       "      <td>False</td>\n",
       "      <td>False</td>\n",
       "      <td>False</td>\n",
       "      <td>False</td>\n",
       "      <td>False</td>\n",
       "      <td>False</td>\n",
       "      <td>False</td>\n",
       "      <td>False</td>\n",
       "      <td>False</td>\n",
       "      <td>...</td>\n",
       "      <td>False</td>\n",
       "      <td>False</td>\n",
       "      <td>False</td>\n",
       "      <td>False</td>\n",
       "      <td>False</td>\n",
       "      <td>False</td>\n",
       "      <td>False</td>\n",
       "      <td>True</td>\n",
       "      <td>False</td>\n",
       "      <td>False</td>\n",
       "    </tr>\n",
       "    <tr>\n",
       "      <th>4</th>\n",
       "      <td>True</td>\n",
       "      <td>True</td>\n",
       "      <td>False</td>\n",
       "      <td>False</td>\n",
       "      <td>False</td>\n",
       "      <td>False</td>\n",
       "      <td>False</td>\n",
       "      <td>False</td>\n",
       "      <td>False</td>\n",
       "      <td>False</td>\n",
       "      <td>...</td>\n",
       "      <td>False</td>\n",
       "      <td>False</td>\n",
       "      <td>False</td>\n",
       "      <td>False</td>\n",
       "      <td>True</td>\n",
       "      <td>False</td>\n",
       "      <td>False</td>\n",
       "      <td>True</td>\n",
       "      <td>False</td>\n",
       "      <td>False</td>\n",
       "    </tr>\n",
       "  </tbody>\n",
       "</table>\n",
       "<p>5 rows × 64 columns</p>\n",
       "</div>"
      ],
      "text/plain": [
       "   CalFireIncident  MajorIncident  Counties_Alameda  Counties_Alpine  \\\n",
       "0             True          False             False            False   \n",
       "1             True          False             False            False   \n",
       "2             True          False             False            False   \n",
       "3            False          False             False            False   \n",
       "4             True           True             False            False   \n",
       "\n",
       "   Counties_Amador  Counties_Butte  Counties_Calaveras  Counties_Colusa  \\\n",
       "0            False           False               False            False   \n",
       "1            False           False               False            False   \n",
       "2            False           False               False            False   \n",
       "3            False           False               False            False   \n",
       "4            False           False               False            False   \n",
       "\n",
       "   Counties_Contra Costa  Counties_Del Norte  ...  Counties_Tehama  \\\n",
       "0                  False               False  ...            False   \n",
       "1                  False               False  ...            False   \n",
       "2                  False               False  ...            False   \n",
       "3                  False               False  ...            False   \n",
       "4                  False               False  ...            False   \n",
       "\n",
       "   Counties_Trinity  Counties_Tulare  Counties_Tuolumne  Counties_Ventura  \\\n",
       "0             False            False               True             False   \n",
       "1             False            False              False             False   \n",
       "2             False            False              False             False   \n",
       "3             False            False              False             False   \n",
       "4             False            False              False              True   \n",
       "\n",
       "   Counties_Yolo  Counties_Yuba  RiskLabel_High  RiskLabel_Low  \\\n",
       "0          False          False            True          False   \n",
       "1          False          False            True          False   \n",
       "2          False          False            True          False   \n",
       "3          False          False            True          False   \n",
       "4          False          False            True          False   \n",
       "\n",
       "   RiskLabel_Medium  \n",
       "0             False  \n",
       "1             False  \n",
       "2             False  \n",
       "3             False  \n",
       "4             False  \n",
       "\n",
       "[5 rows x 64 columns]"
      ]
     },
     "execution_count": 92,
     "metadata": {},
     "output_type": "execute_result"
    }
   ],
   "source": [
    "X_temp.head()"
   ]
  },
  {
   "cell_type": "code",
   "execution_count": 91,
   "id": "865146a6",
   "metadata": {},
   "outputs": [
    {
     "data": {
      "text/plain": [
       "0    0\n",
       "1    0\n",
       "2    0\n",
       "3    0\n",
       "4    0\n",
       "Name: RiskCategory_Code, dtype: int64"
      ]
     },
     "execution_count": 91,
     "metadata": {},
     "output_type": "execute_result"
    }
   ],
   "source": [
    "y.head()"
   ]
  },
  {
   "cell_type": "code",
   "execution_count": 93,
   "id": "a019cc33",
   "metadata": {},
   "outputs": [],
   "source": [
    "from sklearn.model_selection import train_test_split\n",
    "\n",
    "X_train, X_test, y_train, y_test = train_test_split(X_temp,y,test_size=0.2, random_state=42)"
   ]
  },
  {
   "cell_type": "code",
   "execution_count": 94,
   "id": "ffbc58cc",
   "metadata": {},
   "outputs": [
    {
     "data": {
      "text/plain": [
       "RandomForestClassifier()"
      ]
     },
     "execution_count": 94,
     "metadata": {},
     "output_type": "execute_result"
    }
   ],
   "source": [
    "from sklearn.ensemble import RandomForestClassifier\n",
    "\n",
    "rf = RandomForestClassifier()\n",
    "\n",
    "rf.fit(X_train,y_train)"
   ]
  },
  {
   "cell_type": "code",
   "execution_count": 95,
   "id": "be3d538c",
   "metadata": {},
   "outputs": [
    {
     "data": {
      "text/plain": [
       "0.6819571865443425"
      ]
     },
     "execution_count": 95,
     "metadata": {},
     "output_type": "execute_result"
    }
   ],
   "source": [
    "rf.score(X_test,y_test)"
   ]
  },
  {
   "cell_type": "code",
   "execution_count": 102,
   "id": "16a41382",
   "metadata": {},
   "outputs": [
    {
     "data": {
      "text/plain": [
       "array([[ 0.29880182,  0.67135768,  0.12431039, ..., -0.0391271 ,\n",
       "        -0.0032601 , -0.05103896],\n",
       "       [ 0.31779341,  0.67918068,  0.20531467, ..., -0.01790382,\n",
       "        -0.00734184, -0.05589466],\n",
       "       [ 0.22481293,  0.62654685,  0.09531651, ...,  0.00185265,\n",
       "         0.00864146, -0.03474917],\n",
       "       ...,\n",
       "       [-0.66996923, -0.13052857, -0.12070818, ..., -0.00851778,\n",
       "        -0.0038689 , -0.0086263 ],\n",
       "       [-0.73558773, -0.17484287, -0.09276212, ..., -0.00365219,\n",
       "        -0.00439152, -0.00100697],\n",
       "       [-0.67561611, -0.12777727, -0.06380831, ...,  0.59101284,\n",
       "         0.69908361, -0.21207641]])"
      ]
     },
     "execution_count": 102,
     "metadata": {},
     "output_type": "execute_result"
    }
   ],
   "source": [
    "from sklearn.decomposition import PCA\n",
    "\n",
    "pca = PCA(n_components=0.95)\n",
    "X_pca = pca.fit_transform(X_temp)\n",
    "X_pca"
   ]
  },
  {
   "cell_type": "code",
   "execution_count": 103,
   "id": "133394ef",
   "metadata": {},
   "outputs": [],
   "source": [
    "from sklearn.model_selection import train_test_split\n",
    "\n",
    "X_train_pca, X_test_pca, y_train_pca, y_test_pca = train_test_split(X_pca,y,test_size=0.2,random_state=42)"
   ]
  },
  {
   "cell_type": "code",
   "execution_count": 104,
   "id": "58dda975",
   "metadata": {},
   "outputs": [
    {
     "data": {
      "text/plain": [
       "RandomForestClassifier()"
      ]
     },
     "execution_count": 104,
     "metadata": {},
     "output_type": "execute_result"
    }
   ],
   "source": [
    "rf_pca = RandomForestClassifier()\n",
    "\n",
    "rf_pca.fit(X_train_pca, y_train_pca)"
   ]
  },
  {
   "cell_type": "code",
   "execution_count": 105,
   "id": "0ba3806c",
   "metadata": {},
   "outputs": [
    {
     "data": {
      "text/plain": [
       "0.72782874617737"
      ]
     },
     "execution_count": 105,
     "metadata": {},
     "output_type": "execute_result"
    }
   ],
   "source": [
    "rf_pca.score(X_test_pca,y_test_pca)"
   ]
  },
  {
   "cell_type": "code",
   "execution_count": 108,
   "id": "6c9cb9f0",
   "metadata": {},
   "outputs": [
    {
     "data": {
      "text/plain": [
       "0.7125382262996942"
      ]
     },
     "execution_count": 108,
     "metadata": {},
     "output_type": "execute_result"
    }
   ],
   "source": [
    "from sklearn.svm import SVC\n",
    "\n",
    "svm = SVC()\n",
    "\n",
    "svm.fit(X_train,y_train)\n",
    "svm.score(X_test,y_test)"
   ]
  },
  {
   "cell_type": "code",
   "execution_count": 109,
   "id": "4d7af0fa",
   "metadata": {},
   "outputs": [
    {
     "data": {
      "text/plain": [
       "0.7339449541284404"
      ]
     },
     "execution_count": 109,
     "metadata": {},
     "output_type": "execute_result"
    }
   ],
   "source": [
    "svm_pca = SVC()\n",
    "\n",
    "svm_pca.fit(X_train_pca,y_train_pca)\n",
    "svm_pca.score(X_test_pca,y_test_pca)"
   ]
  },
  {
   "cell_type": "code",
   "execution_count": 113,
   "id": "6679b03d",
   "metadata": {},
   "outputs": [
    {
     "data": {
      "text/plain": [
       "0.72782874617737"
      ]
     },
     "execution_count": 113,
     "metadata": {},
     "output_type": "execute_result"
    }
   ],
   "source": [
    "from xgboost import XGBClassifier\n",
    "\n",
    "xgb = XGBClassifier(n_estimators=100, learning_rate=0.1, max_depth=4)\n",
    "\n",
    "xgb.fit(X_train,y_train)\n",
    "xgb.score(X_test,y_test)"
   ]
  },
  {
   "cell_type": "code",
   "execution_count": 122,
   "id": "202f2ea1",
   "metadata": {},
   "outputs": [
    {
     "data": {
      "text/plain": [
       "0.7553516819571865"
      ]
     },
     "execution_count": 122,
     "metadata": {},
     "output_type": "execute_result"
    }
   ],
   "source": [
    "xgb_pca = XGBClassifier(n_estimators=300, learning_rate=0.01, max_depth=4)\n",
    "\n",
    "xgb_pca.fit(X_train_pca,y_train_pca)\n",
    "xgb_pca.score(X_test_pca,y_test_pca)"
   ]
  },
  {
   "cell_type": "code",
   "execution_count": null,
   "id": "07b36b43",
   "metadata": {},
   "outputs": [],
   "source": []
  }
 ],
 "metadata": {
  "kernelspec": {
   "display_name": "Python 3 (ipykernel)",
   "language": "python",
   "name": "python3"
  },
  "language_info": {
   "codemirror_mode": {
    "name": "ipython",
    "version": 3
   },
   "file_extension": ".py",
   "mimetype": "text/x-python",
   "name": "python",
   "nbconvert_exporter": "python",
   "pygments_lexer": "ipython3",
   "version": "3.9.12"
  }
 },
 "nbformat": 4,
 "nbformat_minor": 5
}
